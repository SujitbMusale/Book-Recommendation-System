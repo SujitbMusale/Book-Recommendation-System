{
  "cells": [
    {
      "cell_type": "markdown",
      "metadata": {
        "id": "view-in-github",
        "colab_type": "text"
      },
      "source": [
        "<a href=\"https://colab.research.google.com/github/SujitbMusale/Book-Recommendation-System/blob/main/Book_Recommendation_System.ipynb\" target=\"_parent\"><img src=\"https://colab.research.google.com/assets/colab-badge.svg\" alt=\"Open In Colab\"/></a>"
      ]
    },
    {
      "cell_type": "markdown",
      "source": [
        "# Problem Statement"
      ],
      "metadata": {
        "id": "UftyzpTTFbXU"
      }
    },
    {
      "cell_type": "markdown",
      "source": [
        "During the last few decades, with the rise of Youtube, Amazon, Netflix, and many other such\n",
        "web services, recommender systems have taken more and more place in our lives. From\n",
        "e-commerce (suggest to buyers articles that could interest them) to online advertisement\n",
        "(suggest to users the right contents, matching their preferences), recommender systems are\n",
        "today unavoidable in our daily online journeys.\n",
        "In a very general way, recommender systems are algorithms aimed at suggesting relevant\n",
        "items to users (items being movies to watch, text to read, products to buy, or anything else\n",
        "depending on industries).\n",
        "Recommender systems are really critical in some industries as they can generate a huge\n",
        "amount of income when they are efficient or also be a way to stand out significantly from\n",
        "competitors. The main objective is to create a book recommendation system for users.\n",
        "\n",
        "\n",
        "    Content\n",
        "\n",
        "The Book-Crossing dataset comprises 3 files.\n",
        "\n",
        "● Users\n",
        "\n",
        "Contains the users. Note that user IDs (User-ID) have been anonymized and map to\n",
        "integers. Demographic data is provided (Location, Age) if available. Otherwise, these\n",
        "fields contain NULL values.\n",
        "\n",
        "● Books\n",
        "\n",
        "Books are identified by their respective ISBN. Invalid ISBNs have already been removed\n",
        "from the dataset. Moreover, some content-based information is given (Book-Title,\n",
        "Book-Author, Year-Of-Publication, Publisher), obtained from Amazon Web\n",
        "Services. Note that in the case of several authors, only the first is provided. URLs linking\n",
        "to cover images are also given, appearing in three different flavors (Image-URL-S,\n",
        "Image-URL-M, Image-URL-L), i.e., small, medium, large. These URLs point to the\n",
        "Amazon website.\n",
        "\n",
        "● Ratings\n",
        "\n",
        "Contains the book rating information. Ratings (Book-Rating) are either explicit,\n",
        "expressed on a scale from 1-10 (higher values denoting higher appreciation), or implicit,\n",
        "expressed by 0."
      ],
      "metadata": {
        "id": "tXt5BWSJFjiC"
      }
    },
    {
      "cell_type": "markdown",
      "source": [
        "# Data Importing and Data Claeaning"
      ],
      "metadata": {
        "id": "ynq-LjBcJQwq"
      }
    },
    {
      "cell_type": "code",
      "source": [
        "#Importing Libararies\n",
        "import pandas as pd\n",
        "import sys\n",
        "import numpy as np\n",
        "import matplotlib.pyplot as plt\n",
        "import seaborn as sns\n",
        "import random\n",
        "import warnings\n",
        "warnings.filterwarnings('ignore')"
      ],
      "metadata": {
        "id": "syiP_kKbh4Fe"
      },
      "execution_count": 263,
      "outputs": []
    },
    {
      "cell_type": "code",
      "source": [
        "from google.colab import drive\n",
        "drive.mount('/content/drive')"
      ],
      "metadata": {
        "colab": {
          "base_uri": "https://localhost:8080/"
        },
        "id": "iF3FxbcpIXn9",
        "outputId": "a7e4fdb3-1a99-4d2b-d9bb-474b5384c98e"
      },
      "execution_count": 264,
      "outputs": [
        {
          "output_type": "stream",
          "name": "stdout",
          "text": [
            "Drive already mounted at /content/drive; to attempt to forcibly remount, call drive.mount(\"/content/drive\", force_remount=True).\n"
          ]
        }
      ]
    },
    {
      "cell_type": "code",
      "source": [
        "# loading the user file\n",
        "Users=pd.read_csv('/content/drive/MyDrive/almabetter/capston project/Unsupervised Machine Learning/Users.csv')"
      ],
      "metadata": {
        "id": "r3ddmydVFRBJ"
      },
      "execution_count": 265,
      "outputs": []
    },
    {
      "cell_type": "code",
      "source": [
        "# loading the Books File\n",
        "Books=pd.read_csv('/content/drive/MyDrive/almabetter/capston project/Unsupervised Machine Learning/Books.csv')"
      ],
      "metadata": {
        "id": "shw3-ynPFRDp"
      },
      "execution_count": 266,
      "outputs": []
    },
    {
      "cell_type": "code",
      "source": [
        "# loading the Rating file\n",
        "Ratings=pd.read_csv('/content/drive/MyDrive/almabetter/capston project/Unsupervised Machine Learning/Ratings.csv')"
      ],
      "metadata": {
        "id": "TN6VwmBZFRGg"
      },
      "execution_count": 267,
      "outputs": []
    },
    {
      "cell_type": "code",
      "source": [
        "Users.head()"
      ],
      "metadata": {
        "colab": {
          "base_uri": "https://localhost:8080/",
          "height": 0
        },
        "id": "wjuNQdu0FRJg",
        "outputId": "7851c463-3fe6-4f43-f201-8aa985f0b9a1"
      },
      "execution_count": 268,
      "outputs": [
        {
          "output_type": "execute_result",
          "data": {
            "text/plain": [
              "   User-ID                            Location   Age\n",
              "0        1                  nyc, new york, usa   NaN\n",
              "1        2           stockton, california, usa  18.0\n",
              "2        3     moscow, yukon territory, russia   NaN\n",
              "3        4           porto, v.n.gaia, portugal  17.0\n",
              "4        5  farnborough, hants, united kingdom   NaN"
            ],
            "text/html": [
              "\n",
              "  <div id=\"df-a95e1ee4-878e-41ae-97a2-d8fbd3472439\">\n",
              "    <div class=\"colab-df-container\">\n",
              "      <div>\n",
              "<style scoped>\n",
              "    .dataframe tbody tr th:only-of-type {\n",
              "        vertical-align: middle;\n",
              "    }\n",
              "\n",
              "    .dataframe tbody tr th {\n",
              "        vertical-align: top;\n",
              "    }\n",
              "\n",
              "    .dataframe thead th {\n",
              "        text-align: right;\n",
              "    }\n",
              "</style>\n",
              "<table border=\"1\" class=\"dataframe\">\n",
              "  <thead>\n",
              "    <tr style=\"text-align: right;\">\n",
              "      <th></th>\n",
              "      <th>User-ID</th>\n",
              "      <th>Location</th>\n",
              "      <th>Age</th>\n",
              "    </tr>\n",
              "  </thead>\n",
              "  <tbody>\n",
              "    <tr>\n",
              "      <th>0</th>\n",
              "      <td>1</td>\n",
              "      <td>nyc, new york, usa</td>\n",
              "      <td>NaN</td>\n",
              "    </tr>\n",
              "    <tr>\n",
              "      <th>1</th>\n",
              "      <td>2</td>\n",
              "      <td>stockton, california, usa</td>\n",
              "      <td>18.0</td>\n",
              "    </tr>\n",
              "    <tr>\n",
              "      <th>2</th>\n",
              "      <td>3</td>\n",
              "      <td>moscow, yukon territory, russia</td>\n",
              "      <td>NaN</td>\n",
              "    </tr>\n",
              "    <tr>\n",
              "      <th>3</th>\n",
              "      <td>4</td>\n",
              "      <td>porto, v.n.gaia, portugal</td>\n",
              "      <td>17.0</td>\n",
              "    </tr>\n",
              "    <tr>\n",
              "      <th>4</th>\n",
              "      <td>5</td>\n",
              "      <td>farnborough, hants, united kingdom</td>\n",
              "      <td>NaN</td>\n",
              "    </tr>\n",
              "  </tbody>\n",
              "</table>\n",
              "</div>\n",
              "      <button class=\"colab-df-convert\" onclick=\"convertToInteractive('df-a95e1ee4-878e-41ae-97a2-d8fbd3472439')\"\n",
              "              title=\"Convert this dataframe to an interactive table.\"\n",
              "              style=\"display:none;\">\n",
              "        \n",
              "  <svg xmlns=\"http://www.w3.org/2000/svg\" height=\"24px\"viewBox=\"0 0 24 24\"\n",
              "       width=\"24px\">\n",
              "    <path d=\"M0 0h24v24H0V0z\" fill=\"none\"/>\n",
              "    <path d=\"M18.56 5.44l.94 2.06.94-2.06 2.06-.94-2.06-.94-.94-2.06-.94 2.06-2.06.94zm-11 1L8.5 8.5l.94-2.06 2.06-.94-2.06-.94L8.5 2.5l-.94 2.06-2.06.94zm10 10l.94 2.06.94-2.06 2.06-.94-2.06-.94-.94-2.06-.94 2.06-2.06.94z\"/><path d=\"M17.41 7.96l-1.37-1.37c-.4-.4-.92-.59-1.43-.59-.52 0-1.04.2-1.43.59L10.3 9.45l-7.72 7.72c-.78.78-.78 2.05 0 2.83L4 21.41c.39.39.9.59 1.41.59.51 0 1.02-.2 1.41-.59l7.78-7.78 2.81-2.81c.8-.78.8-2.07 0-2.86zM5.41 20L4 18.59l7.72-7.72 1.47 1.35L5.41 20z\"/>\n",
              "  </svg>\n",
              "      </button>\n",
              "      \n",
              "  <style>\n",
              "    .colab-df-container {\n",
              "      display:flex;\n",
              "      flex-wrap:wrap;\n",
              "      gap: 12px;\n",
              "    }\n",
              "\n",
              "    .colab-df-convert {\n",
              "      background-color: #E8F0FE;\n",
              "      border: none;\n",
              "      border-radius: 50%;\n",
              "      cursor: pointer;\n",
              "      display: none;\n",
              "      fill: #1967D2;\n",
              "      height: 32px;\n",
              "      padding: 0 0 0 0;\n",
              "      width: 32px;\n",
              "    }\n",
              "\n",
              "    .colab-df-convert:hover {\n",
              "      background-color: #E2EBFA;\n",
              "      box-shadow: 0px 1px 2px rgba(60, 64, 67, 0.3), 0px 1px 3px 1px rgba(60, 64, 67, 0.15);\n",
              "      fill: #174EA6;\n",
              "    }\n",
              "\n",
              "    [theme=dark] .colab-df-convert {\n",
              "      background-color: #3B4455;\n",
              "      fill: #D2E3FC;\n",
              "    }\n",
              "\n",
              "    [theme=dark] .colab-df-convert:hover {\n",
              "      background-color: #434B5C;\n",
              "      box-shadow: 0px 1px 3px 1px rgba(0, 0, 0, 0.15);\n",
              "      filter: drop-shadow(0px 1px 2px rgba(0, 0, 0, 0.3));\n",
              "      fill: #FFFFFF;\n",
              "    }\n",
              "  </style>\n",
              "\n",
              "      <script>\n",
              "        const buttonEl =\n",
              "          document.querySelector('#df-a95e1ee4-878e-41ae-97a2-d8fbd3472439 button.colab-df-convert');\n",
              "        buttonEl.style.display =\n",
              "          google.colab.kernel.accessAllowed ? 'block' : 'none';\n",
              "\n",
              "        async function convertToInteractive(key) {\n",
              "          const element = document.querySelector('#df-a95e1ee4-878e-41ae-97a2-d8fbd3472439');\n",
              "          const dataTable =\n",
              "            await google.colab.kernel.invokeFunction('convertToInteractive',\n",
              "                                                     [key], {});\n",
              "          if (!dataTable) return;\n",
              "\n",
              "          const docLinkHtml = 'Like what you see? Visit the ' +\n",
              "            '<a target=\"_blank\" href=https://colab.research.google.com/notebooks/data_table.ipynb>data table notebook</a>'\n",
              "            + ' to learn more about interactive tables.';\n",
              "          element.innerHTML = '';\n",
              "          dataTable['output_type'] = 'display_data';\n",
              "          await google.colab.output.renderOutput(dataTable, element);\n",
              "          const docLink = document.createElement('div');\n",
              "          docLink.innerHTML = docLinkHtml;\n",
              "          element.appendChild(docLink);\n",
              "        }\n",
              "      </script>\n",
              "    </div>\n",
              "  </div>\n",
              "  "
            ]
          },
          "metadata": {},
          "execution_count": 268
        }
      ]
    },
    {
      "cell_type": "code",
      "source": [
        "Books.head()"
      ],
      "metadata": {
        "colab": {
          "base_uri": "https://localhost:8080/",
          "height": 0
        },
        "id": "CYKsXGvnFRMJ",
        "outputId": "71e0e866-344f-48bf-cc0e-bc4197bb5b2f"
      },
      "execution_count": 269,
      "outputs": [
        {
          "output_type": "execute_result",
          "data": {
            "text/plain": [
              "         ISBN                                         Book-Title  \\\n",
              "0  0195153448                                Classical Mythology   \n",
              "1  0002005018                                       Clara Callan   \n",
              "2  0060973129                               Decision in Normandy   \n",
              "3  0374157065  Flu: The Story of the Great Influenza Pandemic...   \n",
              "4  0393045218                             The Mummies of Urumchi   \n",
              "\n",
              "            Book-Author Year-Of-Publication                   Publisher  \\\n",
              "0    Mark P. O. Morford                2002     Oxford University Press   \n",
              "1  Richard Bruce Wright                2001       HarperFlamingo Canada   \n",
              "2          Carlo D'Este                1991             HarperPerennial   \n",
              "3      Gina Bari Kolata                1999        Farrar Straus Giroux   \n",
              "4       E. J. W. Barber                1999  W. W. Norton &amp; Company   \n",
              "\n",
              "                                         Image-URL-S  \\\n",
              "0  http://images.amazon.com/images/P/0195153448.0...   \n",
              "1  http://images.amazon.com/images/P/0002005018.0...   \n",
              "2  http://images.amazon.com/images/P/0060973129.0...   \n",
              "3  http://images.amazon.com/images/P/0374157065.0...   \n",
              "4  http://images.amazon.com/images/P/0393045218.0...   \n",
              "\n",
              "                                         Image-URL-M  \\\n",
              "0  http://images.amazon.com/images/P/0195153448.0...   \n",
              "1  http://images.amazon.com/images/P/0002005018.0...   \n",
              "2  http://images.amazon.com/images/P/0060973129.0...   \n",
              "3  http://images.amazon.com/images/P/0374157065.0...   \n",
              "4  http://images.amazon.com/images/P/0393045218.0...   \n",
              "\n",
              "                                         Image-URL-L  \n",
              "0  http://images.amazon.com/images/P/0195153448.0...  \n",
              "1  http://images.amazon.com/images/P/0002005018.0...  \n",
              "2  http://images.amazon.com/images/P/0060973129.0...  \n",
              "3  http://images.amazon.com/images/P/0374157065.0...  \n",
              "4  http://images.amazon.com/images/P/0393045218.0...  "
            ],
            "text/html": [
              "\n",
              "  <div id=\"df-1f5c00ef-7d16-42e4-b11f-3d45a30db5a1\">\n",
              "    <div class=\"colab-df-container\">\n",
              "      <div>\n",
              "<style scoped>\n",
              "    .dataframe tbody tr th:only-of-type {\n",
              "        vertical-align: middle;\n",
              "    }\n",
              "\n",
              "    .dataframe tbody tr th {\n",
              "        vertical-align: top;\n",
              "    }\n",
              "\n",
              "    .dataframe thead th {\n",
              "        text-align: right;\n",
              "    }\n",
              "</style>\n",
              "<table border=\"1\" class=\"dataframe\">\n",
              "  <thead>\n",
              "    <tr style=\"text-align: right;\">\n",
              "      <th></th>\n",
              "      <th>ISBN</th>\n",
              "      <th>Book-Title</th>\n",
              "      <th>Book-Author</th>\n",
              "      <th>Year-Of-Publication</th>\n",
              "      <th>Publisher</th>\n",
              "      <th>Image-URL-S</th>\n",
              "      <th>Image-URL-M</th>\n",
              "      <th>Image-URL-L</th>\n",
              "    </tr>\n",
              "  </thead>\n",
              "  <tbody>\n",
              "    <tr>\n",
              "      <th>0</th>\n",
              "      <td>0195153448</td>\n",
              "      <td>Classical Mythology</td>\n",
              "      <td>Mark P. O. Morford</td>\n",
              "      <td>2002</td>\n",
              "      <td>Oxford University Press</td>\n",
              "      <td>http://images.amazon.com/images/P/0195153448.0...</td>\n",
              "      <td>http://images.amazon.com/images/P/0195153448.0...</td>\n",
              "      <td>http://images.amazon.com/images/P/0195153448.0...</td>\n",
              "    </tr>\n",
              "    <tr>\n",
              "      <th>1</th>\n",
              "      <td>0002005018</td>\n",
              "      <td>Clara Callan</td>\n",
              "      <td>Richard Bruce Wright</td>\n",
              "      <td>2001</td>\n",
              "      <td>HarperFlamingo Canada</td>\n",
              "      <td>http://images.amazon.com/images/P/0002005018.0...</td>\n",
              "      <td>http://images.amazon.com/images/P/0002005018.0...</td>\n",
              "      <td>http://images.amazon.com/images/P/0002005018.0...</td>\n",
              "    </tr>\n",
              "    <tr>\n",
              "      <th>2</th>\n",
              "      <td>0060973129</td>\n",
              "      <td>Decision in Normandy</td>\n",
              "      <td>Carlo D'Este</td>\n",
              "      <td>1991</td>\n",
              "      <td>HarperPerennial</td>\n",
              "      <td>http://images.amazon.com/images/P/0060973129.0...</td>\n",
              "      <td>http://images.amazon.com/images/P/0060973129.0...</td>\n",
              "      <td>http://images.amazon.com/images/P/0060973129.0...</td>\n",
              "    </tr>\n",
              "    <tr>\n",
              "      <th>3</th>\n",
              "      <td>0374157065</td>\n",
              "      <td>Flu: The Story of the Great Influenza Pandemic...</td>\n",
              "      <td>Gina Bari Kolata</td>\n",
              "      <td>1999</td>\n",
              "      <td>Farrar Straus Giroux</td>\n",
              "      <td>http://images.amazon.com/images/P/0374157065.0...</td>\n",
              "      <td>http://images.amazon.com/images/P/0374157065.0...</td>\n",
              "      <td>http://images.amazon.com/images/P/0374157065.0...</td>\n",
              "    </tr>\n",
              "    <tr>\n",
              "      <th>4</th>\n",
              "      <td>0393045218</td>\n",
              "      <td>The Mummies of Urumchi</td>\n",
              "      <td>E. J. W. Barber</td>\n",
              "      <td>1999</td>\n",
              "      <td>W. W. Norton &amp;amp; Company</td>\n",
              "      <td>http://images.amazon.com/images/P/0393045218.0...</td>\n",
              "      <td>http://images.amazon.com/images/P/0393045218.0...</td>\n",
              "      <td>http://images.amazon.com/images/P/0393045218.0...</td>\n",
              "    </tr>\n",
              "  </tbody>\n",
              "</table>\n",
              "</div>\n",
              "      <button class=\"colab-df-convert\" onclick=\"convertToInteractive('df-1f5c00ef-7d16-42e4-b11f-3d45a30db5a1')\"\n",
              "              title=\"Convert this dataframe to an interactive table.\"\n",
              "              style=\"display:none;\">\n",
              "        \n",
              "  <svg xmlns=\"http://www.w3.org/2000/svg\" height=\"24px\"viewBox=\"0 0 24 24\"\n",
              "       width=\"24px\">\n",
              "    <path d=\"M0 0h24v24H0V0z\" fill=\"none\"/>\n",
              "    <path d=\"M18.56 5.44l.94 2.06.94-2.06 2.06-.94-2.06-.94-.94-2.06-.94 2.06-2.06.94zm-11 1L8.5 8.5l.94-2.06 2.06-.94-2.06-.94L8.5 2.5l-.94 2.06-2.06.94zm10 10l.94 2.06.94-2.06 2.06-.94-2.06-.94-.94-2.06-.94 2.06-2.06.94z\"/><path d=\"M17.41 7.96l-1.37-1.37c-.4-.4-.92-.59-1.43-.59-.52 0-1.04.2-1.43.59L10.3 9.45l-7.72 7.72c-.78.78-.78 2.05 0 2.83L4 21.41c.39.39.9.59 1.41.59.51 0 1.02-.2 1.41-.59l7.78-7.78 2.81-2.81c.8-.78.8-2.07 0-2.86zM5.41 20L4 18.59l7.72-7.72 1.47 1.35L5.41 20z\"/>\n",
              "  </svg>\n",
              "      </button>\n",
              "      \n",
              "  <style>\n",
              "    .colab-df-container {\n",
              "      display:flex;\n",
              "      flex-wrap:wrap;\n",
              "      gap: 12px;\n",
              "    }\n",
              "\n",
              "    .colab-df-convert {\n",
              "      background-color: #E8F0FE;\n",
              "      border: none;\n",
              "      border-radius: 50%;\n",
              "      cursor: pointer;\n",
              "      display: none;\n",
              "      fill: #1967D2;\n",
              "      height: 32px;\n",
              "      padding: 0 0 0 0;\n",
              "      width: 32px;\n",
              "    }\n",
              "\n",
              "    .colab-df-convert:hover {\n",
              "      background-color: #E2EBFA;\n",
              "      box-shadow: 0px 1px 2px rgba(60, 64, 67, 0.3), 0px 1px 3px 1px rgba(60, 64, 67, 0.15);\n",
              "      fill: #174EA6;\n",
              "    }\n",
              "\n",
              "    [theme=dark] .colab-df-convert {\n",
              "      background-color: #3B4455;\n",
              "      fill: #D2E3FC;\n",
              "    }\n",
              "\n",
              "    [theme=dark] .colab-df-convert:hover {\n",
              "      background-color: #434B5C;\n",
              "      box-shadow: 0px 1px 3px 1px rgba(0, 0, 0, 0.15);\n",
              "      filter: drop-shadow(0px 1px 2px rgba(0, 0, 0, 0.3));\n",
              "      fill: #FFFFFF;\n",
              "    }\n",
              "  </style>\n",
              "\n",
              "      <script>\n",
              "        const buttonEl =\n",
              "          document.querySelector('#df-1f5c00ef-7d16-42e4-b11f-3d45a30db5a1 button.colab-df-convert');\n",
              "        buttonEl.style.display =\n",
              "          google.colab.kernel.accessAllowed ? 'block' : 'none';\n",
              "\n",
              "        async function convertToInteractive(key) {\n",
              "          const element = document.querySelector('#df-1f5c00ef-7d16-42e4-b11f-3d45a30db5a1');\n",
              "          const dataTable =\n",
              "            await google.colab.kernel.invokeFunction('convertToInteractive',\n",
              "                                                     [key], {});\n",
              "          if (!dataTable) return;\n",
              "\n",
              "          const docLinkHtml = 'Like what you see? Visit the ' +\n",
              "            '<a target=\"_blank\" href=https://colab.research.google.com/notebooks/data_table.ipynb>data table notebook</a>'\n",
              "            + ' to learn more about interactive tables.';\n",
              "          element.innerHTML = '';\n",
              "          dataTable['output_type'] = 'display_data';\n",
              "          await google.colab.output.renderOutput(dataTable, element);\n",
              "          const docLink = document.createElement('div');\n",
              "          docLink.innerHTML = docLinkHtml;\n",
              "          element.appendChild(docLink);\n",
              "        }\n",
              "      </script>\n",
              "    </div>\n",
              "  </div>\n",
              "  "
            ]
          },
          "metadata": {},
          "execution_count": 269
        }
      ]
    },
    {
      "cell_type": "code",
      "source": [
        "Ratings.head()"
      ],
      "metadata": {
        "colab": {
          "base_uri": "https://localhost:8080/",
          "height": 0
        },
        "id": "m70HWuTlFRPg",
        "outputId": "e2bd4543-c611-4228-edd0-d0dbec717f9a"
      },
      "execution_count": 270,
      "outputs": [
        {
          "output_type": "execute_result",
          "data": {
            "text/plain": [
              "   User-ID        ISBN  Book-Rating\n",
              "0   276725  034545104X            0\n",
              "1   276726  0155061224            5\n",
              "2   276727  0446520802            0\n",
              "3   276729  052165615X            3\n",
              "4   276729  0521795028            6"
            ],
            "text/html": [
              "\n",
              "  <div id=\"df-b91f0051-5c7f-48d9-93b1-04bf3010a883\">\n",
              "    <div class=\"colab-df-container\">\n",
              "      <div>\n",
              "<style scoped>\n",
              "    .dataframe tbody tr th:only-of-type {\n",
              "        vertical-align: middle;\n",
              "    }\n",
              "\n",
              "    .dataframe tbody tr th {\n",
              "        vertical-align: top;\n",
              "    }\n",
              "\n",
              "    .dataframe thead th {\n",
              "        text-align: right;\n",
              "    }\n",
              "</style>\n",
              "<table border=\"1\" class=\"dataframe\">\n",
              "  <thead>\n",
              "    <tr style=\"text-align: right;\">\n",
              "      <th></th>\n",
              "      <th>User-ID</th>\n",
              "      <th>ISBN</th>\n",
              "      <th>Book-Rating</th>\n",
              "    </tr>\n",
              "  </thead>\n",
              "  <tbody>\n",
              "    <tr>\n",
              "      <th>0</th>\n",
              "      <td>276725</td>\n",
              "      <td>034545104X</td>\n",
              "      <td>0</td>\n",
              "    </tr>\n",
              "    <tr>\n",
              "      <th>1</th>\n",
              "      <td>276726</td>\n",
              "      <td>0155061224</td>\n",
              "      <td>5</td>\n",
              "    </tr>\n",
              "    <tr>\n",
              "      <th>2</th>\n",
              "      <td>276727</td>\n",
              "      <td>0446520802</td>\n",
              "      <td>0</td>\n",
              "    </tr>\n",
              "    <tr>\n",
              "      <th>3</th>\n",
              "      <td>276729</td>\n",
              "      <td>052165615X</td>\n",
              "      <td>3</td>\n",
              "    </tr>\n",
              "    <tr>\n",
              "      <th>4</th>\n",
              "      <td>276729</td>\n",
              "      <td>0521795028</td>\n",
              "      <td>6</td>\n",
              "    </tr>\n",
              "  </tbody>\n",
              "</table>\n",
              "</div>\n",
              "      <button class=\"colab-df-convert\" onclick=\"convertToInteractive('df-b91f0051-5c7f-48d9-93b1-04bf3010a883')\"\n",
              "              title=\"Convert this dataframe to an interactive table.\"\n",
              "              style=\"display:none;\">\n",
              "        \n",
              "  <svg xmlns=\"http://www.w3.org/2000/svg\" height=\"24px\"viewBox=\"0 0 24 24\"\n",
              "       width=\"24px\">\n",
              "    <path d=\"M0 0h24v24H0V0z\" fill=\"none\"/>\n",
              "    <path d=\"M18.56 5.44l.94 2.06.94-2.06 2.06-.94-2.06-.94-.94-2.06-.94 2.06-2.06.94zm-11 1L8.5 8.5l.94-2.06 2.06-.94-2.06-.94L8.5 2.5l-.94 2.06-2.06.94zm10 10l.94 2.06.94-2.06 2.06-.94-2.06-.94-.94-2.06-.94 2.06-2.06.94z\"/><path d=\"M17.41 7.96l-1.37-1.37c-.4-.4-.92-.59-1.43-.59-.52 0-1.04.2-1.43.59L10.3 9.45l-7.72 7.72c-.78.78-.78 2.05 0 2.83L4 21.41c.39.39.9.59 1.41.59.51 0 1.02-.2 1.41-.59l7.78-7.78 2.81-2.81c.8-.78.8-2.07 0-2.86zM5.41 20L4 18.59l7.72-7.72 1.47 1.35L5.41 20z\"/>\n",
              "  </svg>\n",
              "      </button>\n",
              "      \n",
              "  <style>\n",
              "    .colab-df-container {\n",
              "      display:flex;\n",
              "      flex-wrap:wrap;\n",
              "      gap: 12px;\n",
              "    }\n",
              "\n",
              "    .colab-df-convert {\n",
              "      background-color: #E8F0FE;\n",
              "      border: none;\n",
              "      border-radius: 50%;\n",
              "      cursor: pointer;\n",
              "      display: none;\n",
              "      fill: #1967D2;\n",
              "      height: 32px;\n",
              "      padding: 0 0 0 0;\n",
              "      width: 32px;\n",
              "    }\n",
              "\n",
              "    .colab-df-convert:hover {\n",
              "      background-color: #E2EBFA;\n",
              "      box-shadow: 0px 1px 2px rgba(60, 64, 67, 0.3), 0px 1px 3px 1px rgba(60, 64, 67, 0.15);\n",
              "      fill: #174EA6;\n",
              "    }\n",
              "\n",
              "    [theme=dark] .colab-df-convert {\n",
              "      background-color: #3B4455;\n",
              "      fill: #D2E3FC;\n",
              "    }\n",
              "\n",
              "    [theme=dark] .colab-df-convert:hover {\n",
              "      background-color: #434B5C;\n",
              "      box-shadow: 0px 1px 3px 1px rgba(0, 0, 0, 0.15);\n",
              "      filter: drop-shadow(0px 1px 2px rgba(0, 0, 0, 0.3));\n",
              "      fill: #FFFFFF;\n",
              "    }\n",
              "  </style>\n",
              "\n",
              "      <script>\n",
              "        const buttonEl =\n",
              "          document.querySelector('#df-b91f0051-5c7f-48d9-93b1-04bf3010a883 button.colab-df-convert');\n",
              "        buttonEl.style.display =\n",
              "          google.colab.kernel.accessAllowed ? 'block' : 'none';\n",
              "\n",
              "        async function convertToInteractive(key) {\n",
              "          const element = document.querySelector('#df-b91f0051-5c7f-48d9-93b1-04bf3010a883');\n",
              "          const dataTable =\n",
              "            await google.colab.kernel.invokeFunction('convertToInteractive',\n",
              "                                                     [key], {});\n",
              "          if (!dataTable) return;\n",
              "\n",
              "          const docLinkHtml = 'Like what you see? Visit the ' +\n",
              "            '<a target=\"_blank\" href=https://colab.research.google.com/notebooks/data_table.ipynb>data table notebook</a>'\n",
              "            + ' to learn more about interactive tables.';\n",
              "          element.innerHTML = '';\n",
              "          dataTable['output_type'] = 'display_data';\n",
              "          await google.colab.output.renderOutput(dataTable, element);\n",
              "          const docLink = document.createElement('div');\n",
              "          docLink.innerHTML = docLinkHtml;\n",
              "          element.appendChild(docLink);\n",
              "        }\n",
              "      </script>\n",
              "    </div>\n",
              "  </div>\n",
              "  "
            ]
          },
          "metadata": {},
          "execution_count": 270
        }
      ]
    },
    {
      "cell_type": "code",
      "source": [
        "#lets check the dimension of sheet\n",
        "Users.shape"
      ],
      "metadata": {
        "id": "M-g18JaeJtim",
        "colab": {
          "base_uri": "https://localhost:8080/"
        },
        "outputId": "22ee442b-0536-4730-c93a-54f9aedf61bc"
      },
      "execution_count": 271,
      "outputs": [
        {
          "output_type": "execute_result",
          "data": {
            "text/plain": [
              "(278858, 3)"
            ]
          },
          "metadata": {},
          "execution_count": 271
        }
      ]
    },
    {
      "cell_type": "code",
      "source": [
        "Books.shape"
      ],
      "metadata": {
        "colab": {
          "base_uri": "https://localhost:8080/"
        },
        "id": "k31eRarvg5f5",
        "outputId": "b0f6a892-6ea0-482b-dddf-019e9511aeb0"
      },
      "execution_count": 272,
      "outputs": [
        {
          "output_type": "execute_result",
          "data": {
            "text/plain": [
              "(271360, 8)"
            ]
          },
          "metadata": {},
          "execution_count": 272
        }
      ]
    },
    {
      "cell_type": "code",
      "source": [
        "Ratings.shape"
      ],
      "metadata": {
        "colab": {
          "base_uri": "https://localhost:8080/"
        },
        "id": "bTjpAdIeg9IB",
        "outputId": "87992fe0-f415-4386-9d7d-e92272ac0d2b"
      },
      "execution_count": 273,
      "outputs": [
        {
          "output_type": "execute_result",
          "data": {
            "text/plain": [
              "(1149780, 3)"
            ]
          },
          "metadata": {},
          "execution_count": 273
        }
      ]
    },
    {
      "cell_type": "markdown",
      "source": [
        "# Data Cleaning- User Dataset."
      ],
      "metadata": {
        "id": "9Z4Vx9w_KVXK"
      }
    },
    {
      "cell_type": "code",
      "source": [
        "# lets take user data\n",
        "# chcek th missing value\n",
        "Users.isnull().sum()"
      ],
      "metadata": {
        "colab": {
          "base_uri": "https://localhost:8080/"
        },
        "id": "HIBHlhhihBY9",
        "outputId": "7a2d594d-3670-4924-dec3-7606f5aad929"
      },
      "execution_count": 274,
      "outputs": [
        {
          "output_type": "execute_result",
          "data": {
            "text/plain": [
              "User-ID          0\n",
              "Location         0\n",
              "Age         110762\n",
              "dtype: int64"
            ]
          },
          "metadata": {},
          "execution_count": 274
        }
      ]
    },
    {
      "cell_type": "markdown",
      "source": [
        "So, from above we can say that the age is having large number of value as a missing value."
      ],
      "metadata": {
        "id": "-tVQa2MMkLSL"
      }
    },
    {
      "cell_type": "code",
      "source": [
        "# lets check the outliers from the age colum\n",
        "fig = plt.figure(figsize=(9, 6))\n",
        "ax = fig.gca()   \n",
        "sns.boxplot(x=Users['Age'])"
      ],
      "metadata": {
        "colab": {
          "base_uri": "https://localhost:8080/",
          "height": 0
        },
        "id": "eMfBKxjIlCvn",
        "outputId": "f8046e91-58a2-4de7-eb98-a972770677f7"
      },
      "execution_count": 275,
      "outputs": [
        {
          "output_type": "execute_result",
          "data": {
            "text/plain": [
              "<matplotlib.axes._subplots.AxesSubplot at 0x7f232097f3d0>"
            ]
          },
          "metadata": {},
          "execution_count": 275
        },
        {
          "output_type": "display_data",
          "data": {
            "text/plain": [
              "<Figure size 648x432 with 1 Axes>"
            ],
            "image/png": "[encoded data removed]"
          },
          "metadata": {
            "needs_background": "light"
          }
        }
      ]
    },
    {
      "cell_type": "code",
      "source": [
        "# lets chcek the distribution of'Age'.\n",
        "sns.distplot(Users['Age'],kde=True,color='blue')"
      ],
      "metadata": {
        "colab": {
          "base_uri": "https://localhost:8080/",
          "height": 0
        },
        "id": "UoRm3OJ3li2Q",
        "outputId": "013b04d5-ee77-416e-9138-68e70fa4b88b"
      },
      "execution_count": 276,
      "outputs": [
        {
          "output_type": "execute_result",
          "data": {
            "text/plain": [
              "<matplotlib.axes._subplots.AxesSubplot at 0x7f2316e90250>"
            ]
          },
          "metadata": {},
          "execution_count": 276
        },
        {
          "output_type": "display_data",
          "data": {
            "text/plain": [
              "<Figure size 432x288 with 1 Axes>"
            ],
            "image/png": "[encoded data removed]"
          },
          "metadata": {
            "needs_background": "light"
          }
        }
      ]
    },
    {
      "cell_type": "markdown",
      "source": [
        "The data is showing some points are above the 100 so either we can remove data beyound upper quartile and we can obser ther are age numbers are from 100 to 250 whic seems to be ouliers from distribution graph.\n",
        "and also upto 5 year people will not read a book."
      ],
      "metadata": {
        "id": "U0w1bckPl6YI"
      }
    },
    {
      "cell_type": "code",
      "source": [
        "#replacing the outliers in 'Age' with NaN value\n",
        "Users.loc[(Users['Age']>100)|(Users['Age']<5),'Age']=np.nan"
      ],
      "metadata": {
        "id": "0ZtHThUTxWKk"
      },
      "execution_count": 277,
      "outputs": []
    },
    {
      "cell_type": "code",
      "source": [
        "#Displaying the current number of missing values in  'Age' column\n",
        "print('The number of missing values is ',Users['Age'].isnull().sum())"
      ],
      "metadata": {
        "colab": {
          "base_uri": "https://localhost:8080/"
        },
        "id": "Qp3ycYhm0ns8",
        "outputId": "48459328-e5d0-4d0e-8a78-054a3eb2aa8f"
      },
      "execution_count": 278,
      "outputs": [
        {
          "output_type": "stream",
          "name": "stdout",
          "text": [
            "The number of missing values is  112010\n"
          ]
        }
      ]
    },
    {
      "cell_type": "code",
      "source": [
        "Users['Age'].describe()"
      ],
      "metadata": {
        "colab": {
          "base_uri": "https://localhost:8080/"
        },
        "id": "hgs0TQ3B182S",
        "outputId": "a334f087-0eb0-4165-8534-18ba298d1ebc"
      },
      "execution_count": 279,
      "outputs": [
        {
          "output_type": "execute_result",
          "data": {
            "text/plain": [
              "count    166848.000000\n",
              "mean         34.746638\n",
              "std          13.633051\n",
              "min           5.000000\n",
              "25%          24.000000\n",
              "50%          32.000000\n",
              "75%          44.000000\n",
              "max         100.000000\n",
              "Name: Age, dtype: float64"
            ]
          },
          "metadata": {},
          "execution_count": 279
        }
      ]
    },
    {
      "cell_type": "markdown",
      "source": [
        "as from disctibution plot we can see that data is positively skweed we can fill data with median value"
      ],
      "metadata": {
        "id": "LjlkoYHU3N6U"
      }
    },
    {
      "cell_type": "code",
      "source": [
        "# =Users['Age'].fillna(Users.groupby('User-ID')['Age'].transform('median'))\n",
        "Users['Age'].fillna(Users.Age.median(),inplace=True)"
      ],
      "metadata": {
        "id": "wzFYg_1o2YxP"
      },
      "execution_count": 280,
      "outputs": []
    },
    {
      "cell_type": "code",
      "source": [
        "Users.isna().sum()"
      ],
      "metadata": {
        "colab": {
          "base_uri": "https://localhost:8080/"
        },
        "id": "bf4Ha4YI5obg",
        "outputId": "ca453e42-8d8b-4e8a-f0cd-5e1fc43f5d38"
      },
      "execution_count": 281,
      "outputs": [
        {
          "output_type": "execute_result",
          "data": {
            "text/plain": [
              "User-ID     0\n",
              "Location    0\n",
              "Age         0\n",
              "dtype: int64"
            ]
          },
          "metadata": {},
          "execution_count": 281
        }
      ]
    },
    {
      "cell_type": "markdown",
      "source": [
        "As from abow there is no null value resent in Users data set."
      ],
      "metadata": {
        "id": "3x1yGxYD6OIK"
      }
    },
    {
      "cell_type": "code",
      "source": [
        "# lets check the duplicate value in Users data sat.\n",
        "Users[Users['User-ID'].duplicated()].sum()"
      ],
      "metadata": {
        "colab": {
          "base_uri": "https://localhost:8080/"
        },
        "id": "jQB8usFr6Xhu",
        "outputId": "635dba71-3574-4909-e4fe-070f3e03d2cf"
      },
      "execution_count": 282,
      "outputs": [
        {
          "output_type": "execute_result",
          "data": {
            "text/plain": [
              "User-ID     0.0\n",
              "Location    0.0\n",
              "Age         0.0\n",
              "dtype: float64"
            ]
          },
          "metadata": {},
          "execution_count": 282
        }
      ]
    },
    {
      "cell_type": "markdown",
      "source": [
        "There is no any duplicate value in user dataset."
      ],
      "metadata": {
        "id": "agC09Fuy65uC"
      }
    },
    {
      "cell_type": "code",
      "source": [
        "# lets create the age group to have a better study.\n",
        "def Age_group(age):\n",
        "  ''' \n",
        "  defines the age group of users\n",
        "  '''\n",
        "  if age<13:\n",
        "    x='Children'\n",
        "  elif age>=13 and age<18:\n",
        "    x='Teens'\n",
        "  elif age>=18 and age<36:\n",
        "    x='Youth'\n",
        "  elif age>=36 and age<56:\n",
        "    x='Middle aged adults'\n",
        "  else:\n",
        "    x='Elderly'\n",
        "  return x"
      ],
      "metadata": {
        "id": "vsdcjLVP64Ds"
      },
      "execution_count": 283,
      "outputs": []
    },
    {
      "cell_type": "code",
      "source": [
        "# Use lambda function\n",
        "Users['Age_group']=Users['Age'].apply(lambda x: Age_group(x))"
      ],
      "metadata": {
        "id": "Tnjgl360-m8D"
      },
      "execution_count": 284,
      "outputs": []
    },
    {
      "cell_type": "code",
      "source": [
        "# now lets work on location columns\n",
        "# lets chcek the number of unique value\n",
        "print(Users['Location'].nunique())\n",
        "Users.Location.unique()\n"
      ],
      "metadata": {
        "colab": {
          "base_uri": "https://localhost:8080/"
        },
        "id": "6K4LlQye_f5e",
        "outputId": "2fcdb670-2a59-4ff8-a30e-5466254992ff"
      },
      "execution_count": 285,
      "outputs": [
        {
          "output_type": "stream",
          "name": "stdout",
          "text": [
            "57339\n"
          ]
        },
        {
          "output_type": "execute_result",
          "data": {
            "text/plain": [
              "array(['nyc, new york, usa', 'stockton, california, usa',\n",
              "       'moscow, yukon territory, russia', ...,\n",
              "       'sergnano, lombardia, italy', 'stranraer, n/a, united kingdom',\n",
              "       'tacoma, washington, united kingdom'], dtype=object)"
            ]
          },
          "metadata": {},
          "execution_count": 285
        }
      ]
    },
    {
      "cell_type": "code",
      "source": [
        "#extracting the country names.\n",
        "for i in Users:\n",
        "    Users['Country']=Users.Location.str.extract(r'\\,+\\s?(\\w*\\s?\\w*)\\\"*$')\n"
      ],
      "metadata": {
        "id": "NC7rFSrZFHC7"
      },
      "execution_count": 286,
      "outputs": []
    },
    {
      "cell_type": "code",
      "source": [
        "Users.Country.nunique()"
      ],
      "metadata": {
        "colab": {
          "base_uri": "https://localhost:8080/"
        },
        "id": "TTS-16iPFhSD",
        "outputId": "c22cb4e6-1a7e-43cd-a989-ba29a5a8fcab"
      },
      "execution_count": 287,
      "outputs": [
        {
          "output_type": "execute_result",
          "data": {
            "text/plain": [
              "529"
            ]
          },
          "metadata": {},
          "execution_count": 287
        }
      ]
    },
    {
      "cell_type": "code",
      "source": [
        "# convert the data into string type.\n",
        "Users['Country']=Users['Country'].astype('str')"
      ],
      "metadata": {
        "id": "Qsyq7H7_GXSL"
      },
      "execution_count": 288,
      "outputs": []
    },
    {
      "cell_type": "markdown",
      "source": [
        "Now we can see that the country name are 529 which are considerable."
      ],
      "metadata": {
        "id": "AwyGtctbGJ0Z"
      }
    },
    {
      "cell_type": "code",
      "source": [
        "#drop location column\n",
        "Users.drop('Location',axis=1,inplace=True)"
      ],
      "metadata": {
        "id": "K7NBIWEiGU0u"
      },
      "execution_count": 289,
      "outputs": []
    },
    {
      "cell_type": "code",
      "source": [
        "# lets check the unique data\n",
        "a=list(Users.Country.unique())\n",
        "a=set(a)\n",
        "a=list(a)\n",
        "a = [x for x in a if x is not None]\n",
        "a.sort()\n",
        "print(a)"
      ],
      "metadata": {
        "colab": {
          "base_uri": "https://localhost:8080/"
        },
        "id": "1NwrgzUJGdRa",
        "outputId": "9093cfdb-075d-49b5-d361-f52a4ee5da5f"
      },
      "execution_count": 290,
      "outputs": [
        {
          "output_type": "stream",
          "name": "stdout",
          "text": [
            "['', '01776', '02458', '19104', '23232', '30064', '85021', '87510', '_ brasil', 'a', 'aaa', 'adsgfdr', 'afghanistan', 'ahrensburg', 'alachua', 'albania', 'alderney', 'algeria', 'algérie', 'allen', 'ama lurra', 'america', 'american samoa', 'andorra', 'angola', 'antarctica', 'aotearoa', 'argentina', 'armenia', 'aroostook', 'aruba', 'asturies', 'auckland', 'austbritania', 'australia', 'australii', 'austria', 'autralia', 'az', 'azerbaijan', 'bademn würtemberg', 'bahamas', 'bahrain', 'baltimore', 'bangladesh', 'barbados', 'basilicata', 'basque country', 'bavaria', 'baxter', 'bbbzzzzz', 'belarus', 'belgi', 'belgique', 'belgium', 'belize', 'bell', 'benin', 'berguedà', 'bermuda', 'bernalillo', 'bfe', 'bhutan', 'bih', 'bkk', 'bladen', 'bolivia', 'bosnia', 'botswana', 'brasil', 'brazil', 'brunei', 'brunei darussalam', 'bucks', 'bulgaria', 'buncombe', 'burkina faso', 'burkinafasu', 'burlington', 'burma', 'butler', 'c', 'cadd0', 'calabria', 'california', 'cambodia', 'camden', 'cameroon', 'can', 'canada', 'canada eh', 'cananda', 'canda', 'cape may', 'cape town', 'cape verde', 'caribbean sea', 'carter', 'cass', 'catalonia', 'catalunya', 'catalunya spain', 'cayman islands', 'chad', 'channel islands', 'cherokee', 'chian', 'chile', 'china', 'china öð¹ú', 'chinaöð¹ú', 'clackamas', 'clinton', 'cn', 'cnina', 'collin', 'colombia', 'comoros', 'congo', 'cook', 'copenhagen', 'costa rica', 'country', 'courtenay', 'croatia', 'csa', 'cuba', 'cyprus', 'czech republic', 'côte d', 'dauphin', 'davidson', 'de', 'dekalb', 'denmark', 'der', 'deutsches reich', 'deutschland', 'dfg', 'distrito federal', 'diy', 'djibouti', 'dominica', 'dominican republic', 'doodedoo', 'dublin', 'east africa', 'ecuador', 'effingham', 'egypt', 'el salvador', 'england', 'england uk', 'english', 'equatorial geuinea', 'eritrea', 'españa', 'essex', 'estonia', 'ethiopia', 'europa', 'europe', 'euskadi', 'euskal herria', 'evil empire', 'fairyland', 'faroe islands', 'ferrara', 'fifi', 'fiji', 'finland', 'fontana', 'fort bend', 'fortaleza', 'framingham', 'france', 'fred', 'frome', 'fulton', 'gabon', 'galiza', 'galiza neghra', 'gb', 'geermany', 'georgia', 'germany', 'germay', 'ghana', 'goteborg', 'granville', 'greece', 'grenada', 'guam', 'guatemala', 'guernsey', 'guinea', 'guyana', 'haiti', 'hamilton', 'hampden', 'harvatija', 'heaven', 'hennipen', 'henry', 'hernando', 'hidalgo', 'hillsborough', 'holland', 'holy see', 'honduras', 'hong kong', 'hongkong', 'hornyonic', 'houston', 'hungary', 'iceland', 'id', 'il canada', 'in', 'india', 'indiai', 'indonesia', 'input error', 'iran', 'iraq', 'ireland', 'israel', 'isreal', 'italia', 'italien', 'italy', 'itlay', 'jackson', 'jamaica', 'japan', 'jersey', 'johnson', 'jordan', 'k1c7b1', 'kazakhstan', 'kenya', 'kern', 'kiribati', 'korea', 'kosovo', 'ksa', 'kuwait', 'kyrgyzstan', 'kz', 'l', 'la argentina', 'la belgique', 'la france', 'la suisse', 'la svizzera', 'lake', 'lane', 'laos', 'latvia', 'lazio', 'le canada', 'le madagascar', 'lebanon', 'lecce', 'lee', 'lesotho', 'liaoning', 'liberia', 'libya', 'lithuania', 'liushi', 'livingston', 'lj', 'lkjlj', 'lleida', 'lombardia', 'london', 'lornsenland', 'luxembourg', 'macau', 'macedonia', 'madagascar', 'madrid', 'maine', 'malawi', 'malaysia', 'malaysian', 'maldives', 'mali', 'malta', 'maracopa', 'maricopa', 'maroc', 'marrion', 'marshall islands', 'mauritania', 'mauritius', 'mexico', 'micronesia', 'milano', 'minnehaha', 'missouri', 'moldova', 'monaco', 'mongolia', 'monroe', 'monterrey', 'mordor', 'morgan', 'morocco', 'mozambique', 'moçambique', 'my', 'myanmar', 'mérida', 'méxico', 'namibia', 'nan', 'nederlands', 'nepal', 'netherlands', 'netherlands antilles', 'neverland', 'new london', 'new zealand', 'newzealand', 'nh', 'nicaragua', 'niger', 'nigeria', 'nl', 'no more', 'none', 'north carolina', 'north korea', 'northern ireland', 'norway', 'nowhere', 'nrw', 'nyc', 'nyhamnsläge', 'nz', 'oakland', 'ohio', 'oman', 'onondaga nation', 'orange co', 'orense', 'osceola', 'ouranos', 'pa', 'pakistan', 'palau', 'palestine', 'palm beach', 'panama', 'paraguay', 'pasco', 'pender', 'peru', 'perãº', 'petrolwar nation', 'phila', 'philippine', 'philippines', 'philippinies', 'phillipines', 'phils', 'phippines', 'pinallas', 'pippo', 'pistlavakia', 'poland', 'polk', 'polska', 'portugal', 'pr', 'prc', 'prince william', 'pueblo', 'puerto rico', 'qatar', 'queensland', 'queenspark', 'quit', 'rapides', 'rice', 'richmond country', 'rmi', 'roma', 'romania', 'rosario', 'rosello', 'rsa', 'russia', 'russian federation', 'rutherford', 'rwanda', 'saint loius', 'saint lucia', 'saint luica', 'samoa', 'san bernardino', 'san franicsco', 'san marino', 'san mateo', 'santa barbara', 'sardegna', 'sardinia', 'saudi arabia', 'saudia arabia', 'scotland', 'senegal', 'serbia', 'shelby', 'sicilia', 'sierra leone', 'singapore', 'slo', 'slovak republik', 'slovakia', 'slovenia', 'smith', 'solano', 'solomon islands', 'somalia', 'somewherein space', 'south africa', 'south korea', 'space', 'spain', 'spotsylvania', 'sri lanka', 'srilanka', 'strongbadia', 'sudan', 'suisse', 'suriname', 'swaziland', 'swazilandia', 'sweden', 'switzerland', 'syria', 'taiwan', 'tajikistan', 'tanzania', 'tdzimi', 'texas', 'thailand', 'thailoand', 'the', 'the gambia', 'the netherlands', 'the philippines', 'thing', 'tobago', 'togo', 'tonga', 'toscana', 'travelling', 'trinidad', 'tunisia', 'turkei', 'turkey', 'turkmenistan', 'tyrtyrt', 'türkiye', 'u', 'u k', 'ua', 'uae', 'uganda', 'uk', 'ukrain', 'ukraine', 'unit', 'unite states', 'united kindgdom', 'united kindgonm', 'united kingdom', 'united sates', 'united staes', 'united state', 'united statea', 'united stated', 'united states', 'universe', 'unknown', 'urugua', 'uruguay', 'us', 'usa', 'ussurfing', 'ust', 'uusa', 'uyo', 'uzbekistan', 'valtesse', 'van wert', 'vanuatu', 'vatican city', 'venezuela', 'ventura', 'ventura county', 'vicenza', 'victoria', 'vietnam', 'vorce', 'wales', 'washtenaw', 'west yorkshire', 'whatcom', 'windham', 'wonderful usa', 'wood', 'worcester', 'x', 'xinyu', 'xxxxxx', 'yakima', 'yanhill', 'yemen', 'ysa', 'yugoslavia', 'yunling', 'z', 'zambia', 'zhengjiang', 'zimbabwe', 'öð¹ú']\n"
          ]
        }
      ]
    },
    {
      "cell_type": "markdown",
      "source": [
        "lets correct the miss- spelled and numeric data from unique country name."
      ],
      "metadata": {
        "id": "X-dNEKo5Hqbl"
      }
    },
    {
      "cell_type": "code",
      "source": [
        "#correcting the mispelled country names\n",
        "Users.loc[Users['Country'].isin(['australii','autralia','western australia']), 'Country'] = 'australia'\n",
        "Users.loc[Users['Country'].isin(['unite states','01776','02458','19104','23232','30064','85021','87510','united sates','united staes','united state','united statea','united stated','america',\n",
        "                                      'united stated of america','united states','united states of america','us','us of a','us virgin islands',\n",
        "                                      'usa  canada','usa currently living in england','uusa','usaa','wonderful usa','california','orange co']), 'Country'] = 'usa'\n",
        "Users.loc[Users['Country'].isin(['united kindgdom', 'united kindgonm','united kingdom','u k']), 'Country'] = 'uk'  \n",
        "Users.loc[Users['Country'].isin(['the philippines', 'philippines', 'philippinies', 'phillipines', 'phils', 'phippines']), 'Country'] = 'philippines'                                      \n",
        "Users.loc[Users['Country'].isin(['','xxxxxx','universe','nowhere','x','y','a','öð¹ú','the','unknown',np.nan,'n/a','aaa','z','somewherein space']), 'Country'] = 'others'\n",
        "Users.loc[Users['Country'].isin([ 'italia','italien','itlay']), 'Country'] = 'italy'\n",
        "Users.loc[Users['Country'].isin([ ' china öð¹ú','chinaöð¹ú','chian']), 'Country'] = 'china'\n",
        "Users['Country'].replace(['the gambia','the netherlands','geermany','srilanka','saudia arabia','brasil','_ brasil','indiai','malaysian','hongkong','russian federation'], \n",
        "                            ['gambia','netherlands','germany','sri lanka','saudi arabia','brazil','brazil','india','malaysia','hong kong','russia'])"
      ],
      "metadata": {
        "colab": {
          "base_uri": "https://localhost:8080/"
        },
        "id": "hD3unnI0Ic2k",
        "outputId": "e559017f-ba1b-4f70-8653-668b49110e5e"
      },
      "execution_count": 291,
      "outputs": [
        {
          "output_type": "execute_result",
          "data": {
            "text/plain": [
              "0              usa\n",
              "1              usa\n",
              "2           russia\n",
              "3         portugal\n",
              "4               uk\n",
              "            ...   \n",
              "278853         usa\n",
              "278854          uk\n",
              "278855      canada\n",
              "278856         usa\n",
              "278857     ireland\n",
              "Name: Country, Length: 278858, dtype: object"
            ]
          },
          "metadata": {},
          "execution_count": 291
        }
      ]
    },
    {
      "cell_type": "code",
      "source": [
        "Users['Country'].nunique()"
      ],
      "metadata": {
        "colab": {
          "base_uri": "https://localhost:8080/"
        },
        "id": "KVtQdLlyJvJt",
        "outputId": "765e4100-8817-4eed-9421-987d8c1461e8"
      },
      "execution_count": 292,
      "outputs": [
        {
          "output_type": "execute_result",
          "data": {
            "text/plain": [
              "483"
            ]
          },
          "metadata": {},
          "execution_count": 292
        }
      ]
    },
    {
      "cell_type": "markdown",
      "source": [
        "Here the total after rmoving miss-spelled and numeric data now we got 483 country name only."
      ],
      "metadata": {
        "id": "7YXBgvEqKCBq"
      }
    },
    {
      "cell_type": "markdown",
      "source": [
        "# Data Cleaning- Books Dataset."
      ],
      "metadata": {
        "id": "Cau1AvpEMhbY"
      }
    },
    {
      "cell_type": "code",
      "source": [
        "Books.head()"
      ],
      "metadata": {
        "colab": {
          "base_uri": "https://localhost:8080/",
          "height": 478
        },
        "id": "60FggAVlJ19M",
        "outputId": "bdf0d118-a4ef-43aa-84b8-93a870223f21"
      },
      "execution_count": 293,
      "outputs": [
        {
          "output_type": "execute_result",
          "data": {
            "text/plain": [
              "         ISBN                                         Book-Title  \\\n",
              "0  0195153448                                Classical Mythology   \n",
              "1  0002005018                                       Clara Callan   \n",
              "2  0060973129                               Decision in Normandy   \n",
              "3  0374157065  Flu: The Story of the Great Influenza Pandemic...   \n",
              "4  0393045218                             The Mummies of Urumchi   \n",
              "\n",
              "            Book-Author Year-Of-Publication                   Publisher  \\\n",
              "0    Mark P. O. Morford                2002     Oxford University Press   \n",
              "1  Richard Bruce Wright                2001       HarperFlamingo Canada   \n",
              "2          Carlo D'Este                1991             HarperPerennial   \n",
              "3      Gina Bari Kolata                1999        Farrar Straus Giroux   \n",
              "4       E. J. W. Barber                1999  W. W. Norton &amp; Company   \n",
              "\n",
              "                                         Image-URL-S  \\\n",
              "0  http://images.amazon.com/images/P/0195153448.0...   \n",
              "1  http://images.amazon.com/images/P/0002005018.0...   \n",
              "2  http://images.amazon.com/images/P/0060973129.0...   \n",
              "3  http://images.amazon.com/images/P/0374157065.0...   \n",
              "4  http://images.amazon.com/images/P/0393045218.0...   \n",
              "\n",
              "                                         Image-URL-M  \\\n",
              "0  http://images.amazon.com/images/P/0195153448.0...   \n",
              "1  http://images.amazon.com/images/P/0002005018.0...   \n",
              "2  http://images.amazon.com/images/P/0060973129.0...   \n",
              "3  http://images.amazon.com/images/P/0374157065.0...   \n",
              "4  http://images.amazon.com/images/P/0393045218.0...   \n",
              "\n",
              "                                         Image-URL-L  \n",
              "0  http://images.amazon.com/images/P/0195153448.0...  \n",
              "1  http://images.amazon.com/images/P/0002005018.0...  \n",
              "2  http://images.amazon.com/images/P/0060973129.0...  \n",
              "3  http://images.amazon.com/images/P/0374157065.0...  \n",
              "4  http://images.amazon.com/images/P/0393045218.0...  "
            ],
            "text/html": [
              "\n",
              "  <div id=\"df-4631c2d5-ceec-43a7-8a29-8d73540a345d\">\n",
              "    <div class=\"colab-df-container\">\n",
              "      <div>\n",
              "<style scoped>\n",
              "    .dataframe tbody tr th:only-of-type {\n",
              "        vertical-align: middle;\n",
              "    }\n",
              "\n",
              "    .dataframe tbody tr th {\n",
              "        vertical-align: top;\n",
              "    }\n",
              "\n",
              "    .dataframe thead th {\n",
              "        text-align: right;\n",
              "    }\n",
              "</style>\n",
              "<table border=\"1\" class=\"dataframe\">\n",
              "  <thead>\n",
              "    <tr style=\"text-align: right;\">\n",
              "      <th></th>\n",
              "      <th>ISBN</th>\n",
              "      <th>Book-Title</th>\n",
              "      <th>Book-Author</th>\n",
              "      <th>Year-Of-Publication</th>\n",
              "      <th>Publisher</th>\n",
              "      <th>Image-URL-S</th>\n",
              "      <th>Image-URL-M</th>\n",
              "      <th>Image-URL-L</th>\n",
              "    </tr>\n",
              "  </thead>\n",
              "  <tbody>\n",
              "    <tr>\n",
              "      <th>0</th>\n",
              "      <td>0195153448</td>\n",
              "      <td>Classical Mythology</td>\n",
              "      <td>Mark P. O. Morford</td>\n",
              "      <td>2002</td>\n",
              "      <td>Oxford University Press</td>\n",
              "      <td>http://images.amazon.com/images/P/0195153448.0...</td>\n",
              "      <td>http://images.amazon.com/images/P/0195153448.0...</td>\n",
              "      <td>http://images.amazon.com/images/P/0195153448.0...</td>\n",
              "    </tr>\n",
              "    <tr>\n",
              "      <th>1</th>\n",
              "      <td>0002005018</td>\n",
              "      <td>Clara Callan</td>\n",
              "      <td>Richard Bruce Wright</td>\n",
              "      <td>2001</td>\n",
              "      <td>HarperFlamingo Canada</td>\n",
              "      <td>http://images.amazon.com/images/P/0002005018.0...</td>\n",
              "      <td>http://images.amazon.com/images/P/0002005018.0...</td>\n",
              "      <td>http://images.amazon.com/images/P/0002005018.0...</td>\n",
              "    </tr>\n",
              "    <tr>\n",
              "      <th>2</th>\n",
              "      <td>0060973129</td>\n",
              "      <td>Decision in Normandy</td>\n",
              "      <td>Carlo D'Este</td>\n",
              "      <td>1991</td>\n",
              "      <td>HarperPerennial</td>\n",
              "      <td>http://images.amazon.com/images/P/0060973129.0...</td>\n",
              "      <td>http://images.amazon.com/images/P/0060973129.0...</td>\n",
              "      <td>http://images.amazon.com/images/P/0060973129.0...</td>\n",
              "    </tr>\n",
              "    <tr>\n",
              "      <th>3</th>\n",
              "      <td>0374157065</td>\n",
              "      <td>Flu: The Story of the Great Influenza Pandemic...</td>\n",
              "      <td>Gina Bari Kolata</td>\n",
              "      <td>1999</td>\n",
              "      <td>Farrar Straus Giroux</td>\n",
              "      <td>http://images.amazon.com/images/P/0374157065.0...</td>\n",
              "      <td>http://images.amazon.com/images/P/0374157065.0...</td>\n",
              "      <td>http://images.amazon.com/images/P/0374157065.0...</td>\n",
              "    </tr>\n",
              "    <tr>\n",
              "      <th>4</th>\n",
              "      <td>0393045218</td>\n",
              "      <td>The Mummies of Urumchi</td>\n",
              "      <td>E. J. W. Barber</td>\n",
              "      <td>1999</td>\n",
              "      <td>W. W. Norton &amp;amp; Company</td>\n",
              "      <td>http://images.amazon.com/images/P/0393045218.0...</td>\n",
              "      <td>http://images.amazon.com/images/P/0393045218.0...</td>\n",
              "      <td>http://images.amazon.com/images/P/0393045218.0...</td>\n",
              "    </tr>\n",
              "  </tbody>\n",
              "</table>\n",
              "</div>\n",
              "      <button class=\"colab-df-convert\" onclick=\"convertToInteractive('df-4631c2d5-ceec-43a7-8a29-8d73540a345d')\"\n",
              "              title=\"Convert this dataframe to an interactive table.\"\n",
              "              style=\"display:none;\">\n",
              "        \n",
              "  <svg xmlns=\"http://www.w3.org/2000/svg\" height=\"24px\"viewBox=\"0 0 24 24\"\n",
              "       width=\"24px\">\n",
              "    <path d=\"M0 0h24v24H0V0z\" fill=\"none\"/>\n",
              "    <path d=\"M18.56 5.44l.94 2.06.94-2.06 2.06-.94-2.06-.94-.94-2.06-.94 2.06-2.06.94zm-11 1L8.5 8.5l.94-2.06 2.06-.94-2.06-.94L8.5 2.5l-.94 2.06-2.06.94zm10 10l.94 2.06.94-2.06 2.06-.94-2.06-.94-.94-2.06-.94 2.06-2.06.94z\"/><path d=\"M17.41 7.96l-1.37-1.37c-.4-.4-.92-.59-1.43-.59-.52 0-1.04.2-1.43.59L10.3 9.45l-7.72 7.72c-.78.78-.78 2.05 0 2.83L4 21.41c.39.39.9.59 1.41.59.51 0 1.02-.2 1.41-.59l7.78-7.78 2.81-2.81c.8-.78.8-2.07 0-2.86zM5.41 20L4 18.59l7.72-7.72 1.47 1.35L5.41 20z\"/>\n",
              "  </svg>\n",
              "      </button>\n",
              "      \n",
              "  <style>\n",
              "    .colab-df-container {\n",
              "      display:flex;\n",
              "      flex-wrap:wrap;\n",
              "      gap: 12px;\n",
              "    }\n",
              "\n",
              "    .colab-df-convert {\n",
              "      background-color: #E8F0FE;\n",
              "      border: none;\n",
              "      border-radius: 50%;\n",
              "      cursor: pointer;\n",
              "      display: none;\n",
              "      fill: #1967D2;\n",
              "      height: 32px;\n",
              "      padding: 0 0 0 0;\n",
              "      width: 32px;\n",
              "    }\n",
              "\n",
              "    .colab-df-convert:hover {\n",
              "      background-color: #E2EBFA;\n",
              "      box-shadow: 0px 1px 2px rgba(60, 64, 67, 0.3), 0px 1px 3px 1px rgba(60, 64, 67, 0.15);\n",
              "      fill: #174EA6;\n",
              "    }\n",
              "\n",
              "    [theme=dark] .colab-df-convert {\n",
              "      background-color: #3B4455;\n",
              "      fill: #D2E3FC;\n",
              "    }\n",
              "\n",
              "    [theme=dark] .colab-df-convert:hover {\n",
              "      background-color: #434B5C;\n",
              "      box-shadow: 0px 1px 3px 1px rgba(0, 0, 0, 0.15);\n",
              "      filter: drop-shadow(0px 1px 2px rgba(0, 0, 0, 0.3));\n",
              "      fill: #FFFFFF;\n",
              "    }\n",
              "  </style>\n",
              "\n",
              "      <script>\n",
              "        const buttonEl =\n",
              "          document.querySelector('#df-4631c2d5-ceec-43a7-8a29-8d73540a345d button.colab-df-convert');\n",
              "        buttonEl.style.display =\n",
              "          google.colab.kernel.accessAllowed ? 'block' : 'none';\n",
              "\n",
              "        async function convertToInteractive(key) {\n",
              "          const element = document.querySelector('#df-4631c2d5-ceec-43a7-8a29-8d73540a345d');\n",
              "          const dataTable =\n",
              "            await google.colab.kernel.invokeFunction('convertToInteractive',\n",
              "                                                     [key], {});\n",
              "          if (!dataTable) return;\n",
              "\n",
              "          const docLinkHtml = 'Like what you see? Visit the ' +\n",
              "            '<a target=\"_blank\" href=https://colab.research.google.com/notebooks/data_table.ipynb>data table notebook</a>'\n",
              "            + ' to learn more about interactive tables.';\n",
              "          element.innerHTML = '';\n",
              "          dataTable['output_type'] = 'display_data';\n",
              "          await google.colab.output.renderOutput(dataTable, element);\n",
              "          const docLink = document.createElement('div');\n",
              "          docLink.innerHTML = docLinkHtml;\n",
              "          element.appendChild(docLink);\n",
              "        }\n",
              "      </script>\n",
              "    </div>\n",
              "  </div>\n",
              "  "
            ]
          },
          "metadata": {},
          "execution_count": 293
        }
      ]
    },
    {
      "cell_type": "code",
      "source": [
        "# Check the shape\n",
        "Books.shape"
      ],
      "metadata": {
        "colab": {
          "base_uri": "https://localhost:8080/"
        },
        "id": "2aftwIhcNb72",
        "outputId": "e09e7b17-1d80-4bc8-f3b4-9ecd7aa4b277"
      },
      "execution_count": 294,
      "outputs": [
        {
          "output_type": "execute_result",
          "data": {
            "text/plain": [
              "(271360, 8)"
            ]
          },
          "metadata": {},
          "execution_count": 294
        }
      ]
    },
    {
      "cell_type": "code",
      "source": [
        "# check the null values\n",
        "Books.isnull().sum()"
      ],
      "metadata": {
        "colab": {
          "base_uri": "https://localhost:8080/"
        },
        "id": "k-ry0CUiR-DV",
        "outputId": "e214250d-8847-47d5-fe05-7c78e80b7a2c"
      },
      "execution_count": 295,
      "outputs": [
        {
          "output_type": "execute_result",
          "data": {
            "text/plain": [
              "ISBN                   0\n",
              "Book-Title             0\n",
              "Book-Author            1\n",
              "Year-Of-Publication    0\n",
              "Publisher              2\n",
              "Image-URL-S            0\n",
              "Image-URL-M            0\n",
              "Image-URL-L            3\n",
              "dtype: int64"
            ]
          },
          "metadata": {},
          "execution_count": 295
        }
      ]
    },
    {
      "cell_type": "markdown",
      "source": [
        "From above we can see that the total row are 271360 which is too large and we are having null value in Publisher and Image-URL-L 2 and 3 respectively.\n",
        "inshort its too low so we can easily drip that column."
      ],
      "metadata": {
        "id": "ULuthNeISfOl"
      }
    },
    {
      "cell_type": "code",
      "source": [
        "# drop the nan rows\n",
        "Books=Books.dropna()"
      ],
      "metadata": {
        "id": "DN_z5MLXSLOk"
      },
      "execution_count": 296,
      "outputs": []
    },
    {
      "cell_type": "code",
      "source": [
        "#insepcting the values in year of publication\n",
        "Books['Year-Of-Publication'].unique()"
      ],
      "metadata": {
        "colab": {
          "base_uri": "https://localhost:8080/"
        },
        "id": "jMHR0xhwTRdI",
        "outputId": "730b0388-3bd9-470d-eebd-070d3a359aba"
      },
      "execution_count": 297,
      "outputs": [
        {
          "output_type": "execute_result",
          "data": {
            "text/plain": [
              "array([2002, 2001, 1991, 1999, 2000, 1993, 1996, 1988, 2004, 1998, 1994,\n",
              "       2003, 1997, 1983, 1979, 1995, 1982, 1985, 1992, 1986, 1978, 1980,\n",
              "       1952, 1987, 1990, 1981, 1989, 1984, 0, 1968, 1961, 1958, 1974,\n",
              "       1976, 1971, 1977, 1975, 1965, 1941, 1970, 1962, 1973, 1972, 1960,\n",
              "       1966, 1920, 1956, 1959, 1953, 1951, 1942, 1963, 1964, 1969, 1954,\n",
              "       1950, 1967, 2005, 1957, 1940, 1937, 1955, 1946, 1936, 1930, 2011,\n",
              "       1925, 1948, 1943, 1947, 1945, 1923, 2020, 1939, 1926, 1938, 2030,\n",
              "       1911, 1904, 1949, 1932, 1928, 1929, 1927, 1931, 1914, 2050, 1934,\n",
              "       1910, 1933, 1902, 1924, 1921, 1900, 2038, 2026, 1944, 1917, 1901,\n",
              "       2010, 1908, 1906, 1935, 1806, 2021, '2000', '1995', '1999', '2004',\n",
              "       '2003', '1990', '1994', '1986', '1989', '2002', '1981', '1993',\n",
              "       '1983', '1982', '1976', '1991', '1977', '1998', '1992', '1996',\n",
              "       '0', '1997', '2001', '1974', '1968', '1987', '1984', '1988',\n",
              "       '1963', '1956', '1970', '1985', '1978', '1973', '1980', '1979',\n",
              "       '1975', '1969', '1961', '1965', '1939', '1958', '1950', '1953',\n",
              "       '1966', '1971', '1959', '1972', '1955', '1957', '1945', '1960',\n",
              "       '1967', '1932', '1924', '1964', '2012', '1911', '1927', '1948',\n",
              "       '1962', '2006', '1952', '1940', '1951', '1931', '1954', '2005',\n",
              "       '1930', '1941', '1944', '1943', '1938', '1900', '1942', '1923',\n",
              "       '1920', '1933', '1909', '1946', '2008', '1378', '2030', '1936',\n",
              "       '1947', '2011', '2020', '1919', '1949', '1922', '1897', '2024',\n",
              "       '1376', '1926', '2037'], dtype=object)"
            ]
          },
          "metadata": {},
          "execution_count": 297
        }
      ]
    },
    {
      "cell_type": "markdown",
      "source": [
        "We can see that some of data is in str and some in numeric form so we will convert all data in to numeric form."
      ],
      "metadata": {
        "id": "rur1uX1zdBGW"
      }
    },
    {
      "cell_type": "code",
      "source": [
        "Books['Year-Of-Publication']=pd.to_numeric(Books['Year-Of-Publication'], errors='coerce')"
      ],
      "metadata": {
        "id": "0mZnTcDAc_lR"
      },
      "execution_count": 298,
      "outputs": []
    },
    {
      "cell_type": "markdown",
      "source": [
        "The value 0 for Year-Of_Publication is invalid and as this dataset was published in 2004, We have assumed that the years after 2006 to be invalid and setting invalid years as NaN\n",
        "\n",
        "Reference of the fact: http://www2.informatik.uni-freiburg.de/~cziegler/BX/"
      ],
      "metadata": {
        "id": "SHcy8OpscLqN"
      }
    },
    {
      "cell_type": "markdown",
      "source": [
        "We wii replace the value with median"
      ],
      "metadata": {
        "id": "e7Q9dkd8dZKk"
      }
    },
    {
      "cell_type": "code",
      "source": [
        "Books.loc[(Books['Year-Of-Publication'] > 2006)|(Books['Year-Of-Publication'] == 0),'Year-Of-Publication'] = np.NAN\n",
        "#replacing NaNs with median value of Year-Of-Publication\n",
        "Books['Year-Of-Publication'].fillna(round(Books['Year-Of-Publication'].median()), inplace=True)"
      ],
      "metadata": {
        "id": "BNMWBL7xTY5P"
      },
      "execution_count": 299,
      "outputs": []
    },
    {
      "cell_type": "markdown",
      "source": [
        "Also we will drop the last three URL columns as its dont have any important in analysis"
      ],
      "metadata": {
        "id": "S5VO4hcJdnfh"
      }
    },
    {
      "cell_type": "code",
      "source": [
        "Books.drop(['Image-URL-S', 'Image-URL-M', 'Image-URL-L'],axis=1,inplace=True)"
      ],
      "metadata": {
        "id": "Lvf89131cgxj"
      },
      "execution_count": 300,
      "outputs": []
    },
    {
      "cell_type": "code",
      "source": [
        "Books['ISBN'].unique()"
      ],
      "metadata": {
        "colab": {
          "base_uri": "https://localhost:8080/"
        },
        "id": "z3aOEhs-exb3",
        "outputId": "93cb66b1-2075-4224-94a9-3dee04e02322"
      },
      "execution_count": 301,
      "outputs": [
        {
          "output_type": "execute_result",
          "data": {
            "text/plain": [
              "array(['0195153448', '0002005018', '0060973129', ..., '006008667X',\n",
              "       '0192126040', '0767409752'], dtype=object)"
            ]
          },
          "metadata": {},
          "execution_count": 301
        }
      ]
    },
    {
      "cell_type": "markdown",
      "source": [
        "'ISBN' is also ok column no need to work on it."
      ],
      "metadata": {
        "id": "IIQ9oHJMfSFA"
      }
    },
    {
      "cell_type": "code",
      "source": [
        "#Uppercasing the ISBN numbers and Book-Author name\n",
        "Books['ISBN']=Books['ISBN'].str.upper()\n",
        "Books['Book-Author']=Books['Book-Author'].str.upper()"
      ],
      "metadata": {
        "id": "MznQBZoFfxwZ"
      },
      "execution_count": 303,
      "outputs": []
    },
    {
      "cell_type": "code",
      "source": [
        "#Checking for duplicates in books dataset\n",
        "Books[Books.duplicated()]"
      ],
      "metadata": {
        "colab": {
          "base_uri": "https://localhost:8080/",
          "height": 424
        },
        "id": "2PUKJ3fUgbP0",
        "outputId": "6c2896ae-6acd-4a74-f939-7a37d8b73cdf"
      },
      "execution_count": 305,
      "outputs": [
        {
          "output_type": "execute_result",
          "data": {
            "text/plain": [
              "              ISBN                                         Book-Title  \\\n",
              "6635    002542730X  Politically Correct Bedtime Stories: Modern Ta...   \n",
              "11925   014062080X      The Scarlet Letter (Penguin Popular Classics)   \n",
              "16298   097089726X                                             Jasper   \n",
              "19266   039592720X                            Interpreter of Maladies   \n",
              "22339   042512164X                                     Capital Crimes   \n",
              "...            ...                                                ...   \n",
              "267020  088404632X     Dianetics: The Modern Science of Mental Health   \n",
              "269297  055215038X                                        The Sleeper   \n",
              "269552  037376099X  Patient Nurse  (Man Of The Month) (Harlequin D...   \n",
              "270285  189481505X                                                I-O   \n",
              "270483  039304632X                          The Voyage of the Narwhal   \n",
              "\n",
              "                Book-Author  Year-Of-Publication                  Publisher  \n",
              "6635      JAMES FINN GARNER               1994.0  John Wiley &amp; Sons Inc  \n",
              "11925   NATHANIEL HAWTHORNE               1994.0          Penguin Books Ltd  \n",
              "16298        MICHELLE GROCE               2003.0     Novello Festival Press  \n",
              "19266         JHUMPA LAHIRI               1999.0        Houghton Mifflin Co  \n",
              "22339      LAWRENCE SANDERS               2000.0   Berkley Publishing Group  \n",
              "...                     ...                  ...                        ...  \n",
              "267020       L. RON HUBBARD               1995.0   Bridge Publications (CA)  \n",
              "269297        GILLIAN WHITE               2003.0                Corgi Books  \n",
              "269552         DIANA PALMER               1997.0                 Silhouette  \n",
              "270285          SIMON LOGAN               2002.0                 Prime (OH)  \n",
              "270483       ANDREA BARRETT               1998.0    W W Norton &amp; Co Inc  \n",
              "\n",
              "[313 rows x 5 columns]"
            ],
            "text/html": [
              "\n",
              "  <div id=\"df-d599fdd3-e041-4eea-b644-dbb690cf6ae4\">\n",
              "    <div class=\"colab-df-container\">\n",
              "      <div>\n",
              "<style scoped>\n",
              "    .dataframe tbody tr th:only-of-type {\n",
              "        vertical-align: middle;\n",
              "    }\n",
              "\n",
              "    .dataframe tbody tr th {\n",
              "        vertical-align: top;\n",
              "    }\n",
              "\n",
              "    .dataframe thead th {\n",
              "        text-align: right;\n",
              "    }\n",
              "</style>\n",
              "<table border=\"1\" class=\"dataframe\">\n",
              "  <thead>\n",
              "    <tr style=\"text-align: right;\">\n",
              "      <th></th>\n",
              "      <th>ISBN</th>\n",
              "      <th>Book-Title</th>\n",
              "      <th>Book-Author</th>\n",
              "      <th>Year-Of-Publication</th>\n",
              "      <th>Publisher</th>\n",
              "    </tr>\n",
              "  </thead>\n",
              "  <tbody>\n",
              "    <tr>\n",
              "      <th>6635</th>\n",
              "      <td>002542730X</td>\n",
              "      <td>Politically Correct Bedtime Stories: Modern Ta...</td>\n",
              "      <td>JAMES FINN GARNER</td>\n",
              "      <td>1994.0</td>\n",
              "      <td>John Wiley &amp;amp; Sons Inc</td>\n",
              "    </tr>\n",
              "    <tr>\n",
              "      <th>11925</th>\n",
              "      <td>014062080X</td>\n",
              "      <td>The Scarlet Letter (Penguin Popular Classics)</td>\n",
              "      <td>NATHANIEL HAWTHORNE</td>\n",
              "      <td>1994.0</td>\n",
              "      <td>Penguin Books Ltd</td>\n",
              "    </tr>\n",
              "    <tr>\n",
              "      <th>16298</th>\n",
              "      <td>097089726X</td>\n",
              "      <td>Jasper</td>\n",
              "      <td>MICHELLE GROCE</td>\n",
              "      <td>2003.0</td>\n",
              "      <td>Novello Festival Press</td>\n",
              "    </tr>\n",
              "    <tr>\n",
              "      <th>19266</th>\n",
              "      <td>039592720X</td>\n",
              "      <td>Interpreter of Maladies</td>\n",
              "      <td>JHUMPA LAHIRI</td>\n",
              "      <td>1999.0</td>\n",
              "      <td>Houghton Mifflin Co</td>\n",
              "    </tr>\n",
              "    <tr>\n",
              "      <th>22339</th>\n",
              "      <td>042512164X</td>\n",
              "      <td>Capital Crimes</td>\n",
              "      <td>LAWRENCE SANDERS</td>\n",
              "      <td>2000.0</td>\n",
              "      <td>Berkley Publishing Group</td>\n",
              "    </tr>\n",
              "    <tr>\n",
              "      <th>...</th>\n",
              "      <td>...</td>\n",
              "      <td>...</td>\n",
              "      <td>...</td>\n",
              "      <td>...</td>\n",
              "      <td>...</td>\n",
              "    </tr>\n",
              "    <tr>\n",
              "      <th>267020</th>\n",
              "      <td>088404632X</td>\n",
              "      <td>Dianetics: The Modern Science of Mental Health</td>\n",
              "      <td>L. RON HUBBARD</td>\n",
              "      <td>1995.0</td>\n",
              "      <td>Bridge Publications (CA)</td>\n",
              "    </tr>\n",
              "    <tr>\n",
              "      <th>269297</th>\n",
              "      <td>055215038X</td>\n",
              "      <td>The Sleeper</td>\n",
              "      <td>GILLIAN WHITE</td>\n",
              "      <td>2003.0</td>\n",
              "      <td>Corgi Books</td>\n",
              "    </tr>\n",
              "    <tr>\n",
              "      <th>269552</th>\n",
              "      <td>037376099X</td>\n",
              "      <td>Patient Nurse  (Man Of The Month) (Harlequin D...</td>\n",
              "      <td>DIANA PALMER</td>\n",
              "      <td>1997.0</td>\n",
              "      <td>Silhouette</td>\n",
              "    </tr>\n",
              "    <tr>\n",
              "      <th>270285</th>\n",
              "      <td>189481505X</td>\n",
              "      <td>I-O</td>\n",
              "      <td>SIMON LOGAN</td>\n",
              "      <td>2002.0</td>\n",
              "      <td>Prime (OH)</td>\n",
              "    </tr>\n",
              "    <tr>\n",
              "      <th>270483</th>\n",
              "      <td>039304632X</td>\n",
              "      <td>The Voyage of the Narwhal</td>\n",
              "      <td>ANDREA BARRETT</td>\n",
              "      <td>1998.0</td>\n",
              "      <td>W W Norton &amp;amp; Co Inc</td>\n",
              "    </tr>\n",
              "  </tbody>\n",
              "</table>\n",
              "<p>313 rows × 5 columns</p>\n",
              "</div>\n",
              "      <button class=\"colab-df-convert\" onclick=\"convertToInteractive('df-d599fdd3-e041-4eea-b644-dbb690cf6ae4')\"\n",
              "              title=\"Convert this dataframe to an interactive table.\"\n",
              "              style=\"display:none;\">\n",
              "        \n",
              "  <svg xmlns=\"http://www.w3.org/2000/svg\" height=\"24px\"viewBox=\"0 0 24 24\"\n",
              "       width=\"24px\">\n",
              "    <path d=\"M0 0h24v24H0V0z\" fill=\"none\"/>\n",
              "    <path d=\"M18.56 5.44l.94 2.06.94-2.06 2.06-.94-2.06-.94-.94-2.06-.94 2.06-2.06.94zm-11 1L8.5 8.5l.94-2.06 2.06-.94-2.06-.94L8.5 2.5l-.94 2.06-2.06.94zm10 10l.94 2.06.94-2.06 2.06-.94-2.06-.94-.94-2.06-.94 2.06-2.06.94z\"/><path d=\"M17.41 7.96l-1.37-1.37c-.4-.4-.92-.59-1.43-.59-.52 0-1.04.2-1.43.59L10.3 9.45l-7.72 7.72c-.78.78-.78 2.05 0 2.83L4 21.41c.39.39.9.59 1.41.59.51 0 1.02-.2 1.41-.59l7.78-7.78 2.81-2.81c.8-.78.8-2.07 0-2.86zM5.41 20L4 18.59l7.72-7.72 1.47 1.35L5.41 20z\"/>\n",
              "  </svg>\n",
              "      </button>\n",
              "      \n",
              "  <style>\n",
              "    .colab-df-container {\n",
              "      display:flex;\n",
              "      flex-wrap:wrap;\n",
              "      gap: 12px;\n",
              "    }\n",
              "\n",
              "    .colab-df-convert {\n",
              "      background-color: #E8F0FE;\n",
              "      border: none;\n",
              "      border-radius: 50%;\n",
              "      cursor: pointer;\n",
              "      display: none;\n",
              "      fill: #1967D2;\n",
              "      height: 32px;\n",
              "      padding: 0 0 0 0;\n",
              "      width: 32px;\n",
              "    }\n",
              "\n",
              "    .colab-df-convert:hover {\n",
              "      background-color: #E2EBFA;\n",
              "      box-shadow: 0px 1px 2px rgba(60, 64, 67, 0.3), 0px 1px 3px 1px rgba(60, 64, 67, 0.15);\n",
              "      fill: #174EA6;\n",
              "    }\n",
              "\n",
              "    [theme=dark] .colab-df-convert {\n",
              "      background-color: #3B4455;\n",
              "      fill: #D2E3FC;\n",
              "    }\n",
              "\n",
              "    [theme=dark] .colab-df-convert:hover {\n",
              "      background-color: #434B5C;\n",
              "      box-shadow: 0px 1px 3px 1px rgba(0, 0, 0, 0.15);\n",
              "      filter: drop-shadow(0px 1px 2px rgba(0, 0, 0, 0.3));\n",
              "      fill: #FFFFFF;\n",
              "    }\n",
              "  </style>\n",
              "\n",
              "      <script>\n",
              "        const buttonEl =\n",
              "          document.querySelector('#df-d599fdd3-e041-4eea-b644-dbb690cf6ae4 button.colab-df-convert');\n",
              "        buttonEl.style.display =\n",
              "          google.colab.kernel.accessAllowed ? 'block' : 'none';\n",
              "\n",
              "        async function convertToInteractive(key) {\n",
              "          const element = document.querySelector('#df-d599fdd3-e041-4eea-b644-dbb690cf6ae4');\n",
              "          const dataTable =\n",
              "            await google.colab.kernel.invokeFunction('convertToInteractive',\n",
              "                                                     [key], {});\n",
              "          if (!dataTable) return;\n",
              "\n",
              "          const docLinkHtml = 'Like what you see? Visit the ' +\n",
              "            '<a target=\"_blank\" href=https://colab.research.google.com/notebooks/data_table.ipynb>data table notebook</a>'\n",
              "            + ' to learn more about interactive tables.';\n",
              "          element.innerHTML = '';\n",
              "          dataTable['output_type'] = 'display_data';\n",
              "          await google.colab.output.renderOutput(dataTable, element);\n",
              "          const docLink = document.createElement('div');\n",
              "          docLink.innerHTML = docLinkHtml;\n",
              "          element.appendChild(docLink);\n",
              "        }\n",
              "      </script>\n",
              "    </div>\n",
              "  </div>\n",
              "  "
            ]
          },
          "metadata": {},
          "execution_count": 305
        }
      ]
    },
    {
      "cell_type": "markdown",
      "source": [
        "ISBN numbers for books with the same title and author would change if the year of release (revised editions),regional versions or publishing companies are different. So, let's look for rows where entire column values are identical."
      ],
      "metadata": {
        "id": "3WSNIWITgr-y"
      }
    },
    {
      "cell_type": "code",
      "source": [
        "#Dropping the rows with the entire column values are duplicated\n",
        "Books.drop_duplicates(keep=\"first\",inplace=True)\n",
        "Books.reset_index(drop=True,inplace=True)"
      ],
      "metadata": {
        "id": "X40SFA1ugtDu"
      },
      "execution_count": 306,
      "outputs": []
    },
    {
      "cell_type": "code",
      "source": [
        "# lets check head data for books\n",
        "Books.head()"
      ],
      "metadata": {
        "colab": {
          "base_uri": "https://localhost:8080/",
          "height": 206
        },
        "id": "qr3LSkend67Q",
        "outputId": "bb5ffbf1-b210-4692-d3d1-601ffb092bff"
      },
      "execution_count": 307,
      "outputs": [
        {
          "output_type": "execute_result",
          "data": {
            "text/plain": [
              "         ISBN                                         Book-Title  \\\n",
              "0  0195153448                                Classical Mythology   \n",
              "1  0002005018                                       Clara Callan   \n",
              "2  0060973129                               Decision in Normandy   \n",
              "3  0374157065  Flu: The Story of the Great Influenza Pandemic...   \n",
              "4  0393045218                             The Mummies of Urumchi   \n",
              "\n",
              "            Book-Author  Year-Of-Publication                   Publisher  \n",
              "0    MARK P. O. MORFORD               2002.0     Oxford University Press  \n",
              "1  RICHARD BRUCE WRIGHT               2001.0       HarperFlamingo Canada  \n",
              "2          CARLO D'ESTE               1991.0             HarperPerennial  \n",
              "3      GINA BARI KOLATA               1999.0        Farrar Straus Giroux  \n",
              "4       E. J. W. BARBER               1999.0  W. W. Norton &amp; Company  "
            ],
            "text/html": [
              "\n",
              "  <div id=\"df-b9a07b2a-16c2-46cb-9111-d858e1d9b153\">\n",
              "    <div class=\"colab-df-container\">\n",
              "      <div>\n",
              "<style scoped>\n",
              "    .dataframe tbody tr th:only-of-type {\n",
              "        vertical-align: middle;\n",
              "    }\n",
              "\n",
              "    .dataframe tbody tr th {\n",
              "        vertical-align: top;\n",
              "    }\n",
              "\n",
              "    .dataframe thead th {\n",
              "        text-align: right;\n",
              "    }\n",
              "</style>\n",
              "<table border=\"1\" class=\"dataframe\">\n",
              "  <thead>\n",
              "    <tr style=\"text-align: right;\">\n",
              "      <th></th>\n",
              "      <th>ISBN</th>\n",
              "      <th>Book-Title</th>\n",
              "      <th>Book-Author</th>\n",
              "      <th>Year-Of-Publication</th>\n",
              "      <th>Publisher</th>\n",
              "    </tr>\n",
              "  </thead>\n",
              "  <tbody>\n",
              "    <tr>\n",
              "      <th>0</th>\n",
              "      <td>0195153448</td>\n",
              "      <td>Classical Mythology</td>\n",
              "      <td>MARK P. O. MORFORD</td>\n",
              "      <td>2002.0</td>\n",
              "      <td>Oxford University Press</td>\n",
              "    </tr>\n",
              "    <tr>\n",
              "      <th>1</th>\n",
              "      <td>0002005018</td>\n",
              "      <td>Clara Callan</td>\n",
              "      <td>RICHARD BRUCE WRIGHT</td>\n",
              "      <td>2001.0</td>\n",
              "      <td>HarperFlamingo Canada</td>\n",
              "    </tr>\n",
              "    <tr>\n",
              "      <th>2</th>\n",
              "      <td>0060973129</td>\n",
              "      <td>Decision in Normandy</td>\n",
              "      <td>CARLO D'ESTE</td>\n",
              "      <td>1991.0</td>\n",
              "      <td>HarperPerennial</td>\n",
              "    </tr>\n",
              "    <tr>\n",
              "      <th>3</th>\n",
              "      <td>0374157065</td>\n",
              "      <td>Flu: The Story of the Great Influenza Pandemic...</td>\n",
              "      <td>GINA BARI KOLATA</td>\n",
              "      <td>1999.0</td>\n",
              "      <td>Farrar Straus Giroux</td>\n",
              "    </tr>\n",
              "    <tr>\n",
              "      <th>4</th>\n",
              "      <td>0393045218</td>\n",
              "      <td>The Mummies of Urumchi</td>\n",
              "      <td>E. J. W. BARBER</td>\n",
              "      <td>1999.0</td>\n",
              "      <td>W. W. Norton &amp;amp; Company</td>\n",
              "    </tr>\n",
              "  </tbody>\n",
              "</table>\n",
              "</div>\n",
              "      <button class=\"colab-df-convert\" onclick=\"convertToInteractive('df-b9a07b2a-16c2-46cb-9111-d858e1d9b153')\"\n",
              "              title=\"Convert this dataframe to an interactive table.\"\n",
              "              style=\"display:none;\">\n",
              "        \n",
              "  <svg xmlns=\"http://www.w3.org/2000/svg\" height=\"24px\"viewBox=\"0 0 24 24\"\n",
              "       width=\"24px\">\n",
              "    <path d=\"M0 0h24v24H0V0z\" fill=\"none\"/>\n",
              "    <path d=\"M18.56 5.44l.94 2.06.94-2.06 2.06-.94-2.06-.94-.94-2.06-.94 2.06-2.06.94zm-11 1L8.5 8.5l.94-2.06 2.06-.94-2.06-.94L8.5 2.5l-.94 2.06-2.06.94zm10 10l.94 2.06.94-2.06 2.06-.94-2.06-.94-.94-2.06-.94 2.06-2.06.94z\"/><path d=\"M17.41 7.96l-1.37-1.37c-.4-.4-.92-.59-1.43-.59-.52 0-1.04.2-1.43.59L10.3 9.45l-7.72 7.72c-.78.78-.78 2.05 0 2.83L4 21.41c.39.39.9.59 1.41.59.51 0 1.02-.2 1.41-.59l7.78-7.78 2.81-2.81c.8-.78.8-2.07 0-2.86zM5.41 20L4 18.59l7.72-7.72 1.47 1.35L5.41 20z\"/>\n",
              "  </svg>\n",
              "      </button>\n",
              "      \n",
              "  <style>\n",
              "    .colab-df-container {\n",
              "      display:flex;\n",
              "      flex-wrap:wrap;\n",
              "      gap: 12px;\n",
              "    }\n",
              "\n",
              "    .colab-df-convert {\n",
              "      background-color: #E8F0FE;\n",
              "      border: none;\n",
              "      border-radius: 50%;\n",
              "      cursor: pointer;\n",
              "      display: none;\n",
              "      fill: #1967D2;\n",
              "      height: 32px;\n",
              "      padding: 0 0 0 0;\n",
              "      width: 32px;\n",
              "    }\n",
              "\n",
              "    .colab-df-convert:hover {\n",
              "      background-color: #E2EBFA;\n",
              "      box-shadow: 0px 1px 2px rgba(60, 64, 67, 0.3), 0px 1px 3px 1px rgba(60, 64, 67, 0.15);\n",
              "      fill: #174EA6;\n",
              "    }\n",
              "\n",
              "    [theme=dark] .colab-df-convert {\n",
              "      background-color: #3B4455;\n",
              "      fill: #D2E3FC;\n",
              "    }\n",
              "\n",
              "    [theme=dark] .colab-df-convert:hover {\n",
              "      background-color: #434B5C;\n",
              "      box-shadow: 0px 1px 3px 1px rgba(0, 0, 0, 0.15);\n",
              "      filter: drop-shadow(0px 1px 2px rgba(0, 0, 0, 0.3));\n",
              "      fill: #FFFFFF;\n",
              "    }\n",
              "  </style>\n",
              "\n",
              "      <script>\n",
              "        const buttonEl =\n",
              "          document.querySelector('#df-b9a07b2a-16c2-46cb-9111-d858e1d9b153 button.colab-df-convert');\n",
              "        buttonEl.style.display =\n",
              "          google.colab.kernel.accessAllowed ? 'block' : 'none';\n",
              "\n",
              "        async function convertToInteractive(key) {\n",
              "          const element = document.querySelector('#df-b9a07b2a-16c2-46cb-9111-d858e1d9b153');\n",
              "          const dataTable =\n",
              "            await google.colab.kernel.invokeFunction('convertToInteractive',\n",
              "                                                     [key], {});\n",
              "          if (!dataTable) return;\n",
              "\n",
              "          const docLinkHtml = 'Like what you see? Visit the ' +\n",
              "            '<a target=\"_blank\" href=https://colab.research.google.com/notebooks/data_table.ipynb>data table notebook</a>'\n",
              "            + ' to learn more about interactive tables.';\n",
              "          element.innerHTML = '';\n",
              "          dataTable['output_type'] = 'display_data';\n",
              "          await google.colab.output.renderOutput(dataTable, element);\n",
              "          const docLink = document.createElement('div');\n",
              "          docLink.innerHTML = docLinkHtml;\n",
              "          element.appendChild(docLink);\n",
              "        }\n",
              "      </script>\n",
              "    </div>\n",
              "  </div>\n",
              "  "
            ]
          },
          "metadata": {},
          "execution_count": 307
        }
      ]
    },
    {
      "cell_type": "markdown",
      "source": [
        "Now data seems ok for eda."
      ],
      "metadata": {
        "id": "_eJN3ACZeLdd"
      }
    },
    {
      "cell_type": "markdown",
      "source": [
        "# Data Cleaning- Rating Dataset.\n"
      ],
      "metadata": {
        "id": "FbUbrA1TePEx"
      }
    },
    {
      "cell_type": "code",
      "source": [],
      "metadata": {
        "id": "ZY1WuGA4eHez"
      },
      "execution_count": null,
      "outputs": []
    }
  ],
  "metadata": {
    "colab": {
      "collapsed_sections": [
        "ynq-LjBcJQwq",
        "9Z4Vx9w_KVXK"
      ],
      "provenance": [],
      "include_colab_link": true
    },
    "kernelspec": {
      "display_name": "Python 3",
      "name": "python3"
    },
    "language_info": {
      "name": "python"
    }
  },
  "nbformat": 4,
  "nbformat_minor": 0
}